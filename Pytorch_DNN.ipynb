{
  "nbformat": 4,
  "nbformat_minor": 0,
  "metadata": {
    "colab": {
      "name": "Pytorch_DNN.ipynb",
      "provenance": [],
      "collapsed_sections": [],
      "authorship_tag": "ABX9TyP7FBrd1N8LXuRtgB7TndTh",
      "include_colab_link": true
    },
    "kernelspec": {
      "name": "python3",
      "display_name": "Python 3"
    },
    "language_info": {
      "name": "python"
    }
  },
  "cells": [
    {
      "cell_type": "markdown",
      "metadata": {
        "id": "view-in-github",
        "colab_type": "text"
      },
      "source": [
        "<a href=\"https://colab.research.google.com/github/CandidoJr209/Pytorch_examples/blob/main/Pytorch_DNN.ipynb\" target=\"_parent\"><img src=\"https://colab.research.google.com/assets/colab-badge.svg\" alt=\"Open In Colab\"/></a>"
      ]
    },
    {
      "cell_type": "markdown",
      "metadata": {
        "id": "cIsyjjrPTAPL"
      },
      "source": [
        "# **MNIST digit classification with Dense Neural Network**\n",
        "\n",
        "In this notebook we'll classify mnist digits using a DNN implemented with pytorch"
      ]
    },
    {
      "cell_type": "code",
      "metadata": {
        "id": "5A5aZjFipmdg"
      },
      "source": [
        "import torch\n",
        "import torch.nn as nn\n",
        "import torch.optim as optim\n",
        "import torch.nn.functional as F\n",
        "from torch.utils.data import DataLoader\n",
        "import torchvision.datasets as datasets\n",
        "import torchvision.transforms as transforms"
      ],
      "execution_count": 1,
      "outputs": []
    },
    {
      "cell_type": "markdown",
      "metadata": {
        "id": "GeyLKiIETsaZ"
      },
      "source": [
        "First step, build the model"
      ]
    },
    {
      "cell_type": "code",
      "metadata": {
        "id": "RtOQPBtavVwy"
      },
      "source": [
        "class NN(nn.Module):\n",
        "  def __init__(self, input_size, num_classes):\n",
        "    super(NN,self).__init__()\n",
        "    self.fc1 = nn.Linear(input_size,50)\n",
        "    self.fc2 = nn.Linear(50, num_classes)\n",
        "\n",
        "  def forward(self, x):\n",
        "    x = F.relu(self.fc1(x))\n",
        "    x = self.fc2(x)\n",
        "    return x\n"
      ],
      "execution_count": 2,
      "outputs": []
    },
    {
      "cell_type": "markdown",
      "metadata": {
        "id": "CxtGuGalT_EM"
      },
      "source": [
        "Now select the device to use, that will be a cuda device if you have one and a cpu otherwise"
      ]
    },
    {
      "cell_type": "code",
      "metadata": {
        "id": "kJDR8rehw2fL"
      },
      "source": [
        "device = torch.device('cuda' if torch.cuda.is_available() else 'cpu')"
      ],
      "execution_count": 3,
      "outputs": []
    },
    {
      "cell_type": "markdown",
      "metadata": {
        "id": "Y6t0YvSjUTR3"
      },
      "source": [
        "Tune the hiperparameters"
      ]
    },
    {
      "cell_type": "code",
      "metadata": {
        "id": "LpQW085mxJLY"
      },
      "source": [
        "input_size = 784\n",
        "num_classes = 10\n",
        "learning_rate = 0.001\n",
        "batch_size = 64\n",
        "num_epoch = 1"
      ],
      "execution_count": 4,
      "outputs": []
    },
    {
      "cell_type": "markdown",
      "metadata": {
        "id": "6E72HbuOUXFI"
      },
      "source": [
        "Load the data"
      ]
    },
    {
      "cell_type": "code",
      "metadata": {
        "id": "WSijvX7oxbOh"
      },
      "source": [
        "train_dataset = datasets.MNIST(root='dataset/',train=True,transform=transforms.ToTensor(),download=True)\n",
        "train_loader = DataLoader(dataset=train_dataset,batch_size=batch_size,shuffle=True)\n",
        "test_dataset = datasets.MNIST(root='dataset/',train=False,transform=transforms.ToTensor(),download=True)\n",
        "test_loader = DataLoader(dataset=test_dataset,batch_size=batch_size,shuffle=True)"
      ],
      "execution_count": null,
      "outputs": []
    },
    {
      "cell_type": "markdown",
      "metadata": {
        "id": "4qz0NV4ZUcNj"
      },
      "source": [
        "Now initialize the model with the parameters you chose"
      ]
    },
    {
      "cell_type": "code",
      "metadata": {
        "id": "-H4P5TWc1kvy"
      },
      "source": [
        "model = NN(input_size=input_size, num_classes=num_classes).to(device)"
      ],
      "execution_count": 9,
      "outputs": []
    },
    {
      "cell_type": "markdown",
      "metadata": {
        "id": "bKzhqbMZUsDI"
      },
      "source": [
        "Define the loss and optimizer functions"
      ]
    },
    {
      "cell_type": "code",
      "metadata": {
        "id": "J0KuERER1xD8"
      },
      "source": [
        "loss_fn = nn.CrossEntropyLoss()\n",
        "optimizer = optim.Adam(model.parameters(), lr=learning_rate)"
      ],
      "execution_count": 10,
      "outputs": []
    },
    {
      "cell_type": "markdown",
      "metadata": {
        "id": "Gp6vgNvtVDss"
      },
      "source": [
        "Finally, train the model and display your results"
      ]
    },
    {
      "cell_type": "code",
      "metadata": {
        "colab": {
          "base_uri": "https://localhost:8080/"
        },
        "id": "RCoZcxAW2H19",
        "outputId": "a72e2a02-0955-426a-bdb5-e7dcbd4dabc7"
      },
      "source": [
        "for epoch in range(num_epoch):\n",
        "  for batch_idx, (data, targets) in enumerate(train_loader):\n",
        "    data = data.to(device=device)\n",
        "    targets = targets.to(device=device)\n",
        "\n",
        "    data = data.reshape(data.shape[0],-1)\n",
        "\n",
        "    scores = model(data)\n",
        "    loss = loss_fn(scores,targets)\n",
        "\n",
        "    optimizer.zero_grad()\n",
        "    loss.backward()\n",
        "\n",
        "    optimizer.step()\n",
        "\n",
        "def check_accuracy(loader, model):\n",
        "  num_correct = 0\n",
        "  num_samples = 0\n",
        "  model.eval()\n",
        "\n",
        "  with torch.no_grad():\n",
        "    \n",
        "    for x, y in loader:\n",
        "      x = x.to(device=device)\n",
        "      y = y.to(device=device)\n",
        "      x = x.reshape(x.shape[0], -1)\n",
        "\n",
        "      scores = model(x)\n",
        "      _, predictions = scores.max(1)\n",
        "      num_correct += (predictions == y).sum()\n",
        "      num_samples += predictions.size(0)\n",
        "\n",
        "    print(f'Got {num_correct} / {num_samples} with accuracy {float(num_correct)/float(num_samples)*100:.2f}')\n",
        "\n",
        "  model.train()\n",
        "\n",
        "\n",
        "check_accuracy(train_loader, model)\n",
        "check_accuracy(test_loader, model)"
      ],
      "execution_count": 11,
      "outputs": [
        {
          "output_type": "stream",
          "text": [
            "Got 55509 / 60000 with accuracy 92.52\n",
            "Got 9293 / 10000 with accuracy 92.93\n"
          ],
          "name": "stdout"
        }
      ]
    }
  ]
}